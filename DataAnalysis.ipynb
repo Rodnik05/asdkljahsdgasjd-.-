{
 "cells": [
  {
   "cell_type": "code",
   "execution_count": 5,
   "metadata": {},
   "outputs": [],
   "source": [
    "import pandas as pd"
   ]
  },
  {
   "cell_type": "code",
   "execution_count": 22,
   "metadata": {},
   "outputs": [
    {
     "name": "stdout",
     "output_type": "stream",
     "text": [
      "(50000, 5)\n",
      "<class 'pandas.core.frame.DataFrame'>\n",
      "RangeIndex: 50000 entries, 0 to 49999\n",
      "Data columns (total 5 columns):\n",
      " #   Column      Non-Null Count  Dtype  \n",
      "---  ------      --------------  -----  \n",
      " 0   hotel_id    50000 non-null  int64  \n",
      " 1   hotel_name  50000 non-null  object \n",
      " 2   chain_id    50000 non-null  int64  \n",
      " 3   latitude    50000 non-null  float64\n",
      " 4   longitude   50000 non-null  float64\n",
      "dtypes: float64(2), int64(2), object(1)\n",
      "memory usage: 1.9+ MB\n",
      "None\n"
     ]
    }
   ],
   "source": [
    "hotel_info_df = pd.read_csv('./Hotels-50K/input/dataset/hotel_info.csv')\n",
    "# hotel_info_df.head()\n",
    "print(hotel_info_df.shape)\n",
    "print(hotel_info_df.info())"
   ]
  },
  {
   "cell_type": "code",
   "execution_count": 23,
   "metadata": {},
   "outputs": [
    {
     "name": "stdout",
     "output_type": "stream",
     "text": [
      "(93, 2)\n",
      "<class 'pandas.core.frame.DataFrame'>\n",
      "RangeIndex: 93 entries, 0 to 92\n",
      "Data columns (total 2 columns):\n",
      " #   Column      Non-Null Count  Dtype \n",
      "---  ------      --------------  ----- \n",
      " 0   chain_id    93 non-null     int64 \n",
      " 1   chain_name  93 non-null     object\n",
      "dtypes: int64(1), object(1)\n",
      "memory usage: 1.6+ KB\n",
      "None\n"
     ]
    }
   ],
   "source": [
    "chain_info_df = pd.read_csv('./Hotels-50K/input/dataset/chain_info.csv')\n",
    "# chain_info_df.head()\n",
    "print(chain_info_df.shape)\n",
    "print(chain_info_df.info())"
   ]
  },
  {
   "cell_type": "code",
   "execution_count": 24,
   "metadata": {},
   "outputs": [
    {
     "name": "stdout",
     "output_type": "stream",
     "text": [
      "(16171, 5)\n",
      "<class 'pandas.core.frame.DataFrame'>\n",
      "RangeIndex: 16171 entries, 0 to 16170\n",
      "Data columns (total 5 columns):\n",
      " #   Column            Non-Null Count  Dtype \n",
      "---  ------            --------------  ----- \n",
      " 0   image_id          16171 non-null  int64 \n",
      " 1   hotel_id          16171 non-null  int64 \n",
      " 2   image_url         16171 non-null  object\n",
      " 3   image_source      16171 non-null  object\n",
      " 4   upload_timestamp  16171 non-null  object\n",
      "dtypes: int64(2), object(3)\n",
      "memory usage: 631.8+ KB\n",
      "None\n"
     ]
    }
   ],
   "source": [
    "test_df = pd.read_csv('./Hotels-50K/input/dataset/test_set.csv')\n",
    "# test_df.head()\n",
    "print(test_df.shape)\n",
    "print(test_df.info())"
   ]
  },
  {
   "cell_type": "code",
   "execution_count": 25,
   "metadata": {},
   "outputs": [
    {
     "name": "stdout",
     "output_type": "stream",
     "text": [
      "(1124214, 5)\n",
      "<class 'pandas.core.frame.DataFrame'>\n",
      "RangeIndex: 1124214 entries, 0 to 1124213\n",
      "Data columns (total 5 columns):\n",
      " #   Column                                                             Non-Null Count    Dtype \n",
      "---  ------                                                             --------------    ----- \n",
      " 0   3485                                                               1124214 non-null  int64 \n",
      " 1   18187                                                              1124214 non-null  int64 \n",
      " 2   https://traffickcam.com/images/2016/10/20150909_172340_SDFCNB.jpg  1124214 non-null  object\n",
      " 3   traffickcam                                                        1124214 non-null  object\n",
      " 4   9/9/15 17:23                                                       1124214 non-null  object\n",
      "dtypes: int64(2), object(3)\n",
      "memory usage: 42.9+ MB\n",
      "None\n"
     ]
    }
   ],
   "source": [
    "train_df = pd.read_csv('./Hotels-50K/input/dataset/train_set.csv')\n",
    "# train_df.head()\n",
    "print(train_df.shape)\n",
    "print(train_df.info())"
   ]
  }
 ],
 "metadata": {
  "kernelspec": {
   "display_name": "Python 3",
   "language": "python",
   "name": "python3"
  },
  "language_info": {
   "codemirror_mode": {
    "name": "ipython",
    "version": 3
   },
   "file_extension": ".py",
   "mimetype": "text/x-python",
   "name": "python",
   "nbconvert_exporter": "python",
   "pygments_lexer": "ipython3",
   "version": "3.11.1"
  },
  "orig_nbformat": 4
 },
 "nbformat": 4,
 "nbformat_minor": 2
}
